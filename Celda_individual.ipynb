{
  "nbformat": 4,
  "nbformat_minor": 0,
  "metadata": {
    "colab": {
      "provenance": [],
      "authorship_tag": "ABX9TyMOQpjUJjfBzJ2oEcR+ml5r",
      "include_colab_link": true
    },
    "kernelspec": {
      "name": "python3",
      "display_name": "Python 3"
    },
    "language_info": {
      "name": "python"
    }
  },
  "cells": [
    {
      "cell_type": "markdown",
      "metadata": {
        "id": "view-in-github",
        "colab_type": "text"
      },
      "source": [
        "<a href=\"https://colab.research.google.com/github/ovapichi/biomecanica-datos/blob/celda_de_cargas/Celda_individual.ipynb\" target=\"_parent\"><img src=\"https://colab.research.google.com/assets/colab-badge.svg\" alt=\"Open In Colab\"/></a>"
      ]
    },
    {
      "cell_type": "code",
      "source": [
        "import pandas as pd\n",
        "  #CELDA DE CARGAS WIN LABORAT\n",
        "cuad_der=0\n",
        "cuad_izq=0\n",
        "isq_der=0\n",
        "isq_izq=0\n",
        "lista=\"\"\n",
        "path=\"\"\n",
        "'''\n",
        "#Formato de la lista\n",
        "  Columnas(\"max\",\"5s\",\"10s\",\"control_motor\",\"indice_fatiga\")\n",
        "  index Filas (\"cuad_der\",\"cuad_izq\",\"isq_der\",\"isq_izq\")\n",
        "'''\n",
        "\n",
        "def carga_manual ():\n",
        "  print(\"Carga manual de datos, por favor llene los datos solicitados \\n\")\n",
        "  cuad_der=float(input(\"Ingresar la fuerza de extensión muslo derecho \"))\n",
        "  cuad_izq=float(input(\"Ingresar la fuerza de extensión muslo izquierdo \"))\n",
        "  isq_der=float(input(\"Ingresar la fuerza de flexión muslo derecho \"))\n",
        "  isq_izq=float(input(\"Ingresar la fuerza de flexión muslo izquierdo \"))\n",
        "  return cuad_der,cuad_izq,isq_der,isq_izq\n",
        "def carga_lista(lista_de_datos):\n",
        "  cuad_der=float(lista_de_datos[0])\n",
        "  cuad_izq=float(lista_de_datos[1])\n",
        "  isq_der=float(lista_de_datos[2])\n",
        "  isq_izq=float(lista_de_datos[3])\n",
        "  return cuad_der,cuad_izq,isq_der,isq_izq\n",
        "#relacion flexores\n",
        "carga=\"\"\n",
        "while not carga == \"M\" and not carga == \"L\":\n",
        "  carga=input(\"¿Cómo desea realizar la carga de datos? \\n M para manual \\n L para lista\\n\")\n",
        "\n",
        "if carga == \"M\":\n",
        "  cuad_der,cuad_izq,isq_der,isq_izq=carga_manual()\n",
        "\n",
        "else:\n",
        "  lista=pd.read_csv(path+\"/\"+input(\"Ingresar nombre del deportista a evaluar\")+\".csv\")\n",
        "  cuad_der,cuad_izq,isq_der,isq_izq=carga_lista(lista)"
      ],
      "metadata": {
        "id": "ptMbPX0i4Bfn",
        "outputId": "c329d701-7608-4281-bb71-1d406aff4519",
        "colab": {
          "base_uri": "https://localhost:8080/"
        }
      },
      "execution_count": null,
      "outputs": [
        {
          "name": "stdout",
          "output_type": "stream",
          "text": [
            "¿Cómo desea realizar la carga de datos? \n",
            " M para manual \n",
            " L para lista\n",
            "M\n",
            "Carga manual de datos, por favor llene los datos solicitados \n",
            "\n",
            "Ingresar la fuerza de extensión muslo derecho 31\n",
            "Ingresar la fuerza de extensión muslo izquierdo 42\n",
            "Ingresar la fuerza de flexión muslo derecho 55\n",
            "Ingresar la fuerza de flexión muslo izquierdo 12\n"
          ]
        }
      ]
    },
    {
      "cell_type": "code",
      "execution_count": null,
      "metadata": {
        "id": "Kl7WN2eLEH3B",
        "colab": {
          "base_uri": "https://localhost:8080/"
        },
        "outputId": "65707144-bbf6-43f0-f2d4-6e4db74119ad"
      },
      "outputs": [
        {
          "output_type": "stream",
          "name": "stdout",
          "text": [
            "2) FUERZA DE MUSLOS\n",
            " 2.1) RELACION FLEXORES (-10(ok)<10-25(leve)<+25(grave))\n",
            "Fortalecer flexores I \n",
            " Porcentaje de asiemtría = 358.3333333333333\n",
            "2.2) RELACION EXTENSORES (-10(ok)<10-25(leve)<+25(grave))\n",
            "Fortalecer Extensores I \n",
            " Porcentaje de asiemtría = -26.19047619047619\n",
            "2.3) RELACION MUSLO DERECHO (- 5.16 (ok)< 5.16 - 25.8 (leve)<+ 25.8 (grave))\n",
            "Fortalecer Extensores D \n",
            " Porcentaje de relación = 29.199999999999996\n",
            "2.4) RELACION MUSLO Izquierdo (- 3.2399999999999998 (ok)< 3.2399999999999998 - 16.2 (leve)<+ 16.2 (grave))\n",
            "Fortalecer Flexores I \n",
            " Porcentaje de relación = -4.200000000000003\n"
          ]
        }
      ],
      "source": [
        "#Aplicación de fórmulas de asimetría\n",
        "\n",
        "relacionFlex=(isq_der/isq_izq)*100-100\n",
        "\n",
        "simetricoFlex=0\n",
        "asimetricoDFlex=0\n",
        "asimetricoIFlex=0\n",
        "\n",
        "simetricoFlex=(relacionFlex <=10) & (relacionFlex >=-10)\n",
        "asimetricoDFlex=(relacionFlex <-10) & (relacionFlex >=-25)\n",
        "asimetricoIFlex=(relacionFlex >10) & (relacionFlex <25)\n",
        "\n",
        "#relacion extensores\n",
        "simetricoExt=0\n",
        "asimetricoDExt=0\n",
        "asimetricoIExt=0\n",
        "\n",
        "relacionExt=(cuad_der/cuad_izq)*100-100\n",
        "\n",
        "simetricoExt=(relacionExt <=10) & (relacionExt >=-10)\n",
        "asimetricoDExt=(relacionExt <-10) & (relacionExt >=-25)\n",
        "asimetricoIExt=(relacionExt >10) & (relacionExt <25)\n",
        "\n",
        "#relacion interpierna derecha\n",
        "criticoD=(cuad_der+isq_der)*0.06\n",
        "sCriticoD=(cuad_der+isq_der)*0.3\n",
        "relacionMd=(cuad_der+isq_der)*0.7-cuad_der\n",
        "\n",
        "simetricoMd=0\n",
        "asimetricoDIsq=0\n",
        "asimetricoDCuad=0\n",
        "sAsimetricoDIsq=0\n",
        "sAsimetricoDCuad=0\n",
        "\n",
        "simetricoMd=(relacionMd <=criticoD) & (relacionMd >=criticoD*-1)\n",
        "asimetricoDIsq=(relacionMd <criticoD*-1) & (relacionMd >=sCriticoD*-1)\n",
        "asimetricoDCuad=(relacionMd >criticoD) & (relacionMd <sCriticoD)\n",
        "sAsimetricoDIsq=(relacionMd <=sCriticoD*-1)\n",
        "sAsimetricoDCuad=(relacionMd >= sCriticoD)\n",
        "\n",
        "#relacion interpierna Izquierda\n",
        "criticoI=(cuad_izq+isq_izq)*0.06\n",
        "sCriticoI=(cuad_izq+isq_izq)*0.3\n",
        "relacionMi=(cuad_izq+isq_izq)*0.7-cuad_izq\n",
        "\n",
        "simetricoMi=0\n",
        "asimetricoIIsq=0\n",
        "asimetricoICuad=0\n",
        "sAsimetricoIIsq=0\n",
        "sAsimetricoICuad=0\n",
        "\n",
        "simetricoMi=(relacionMi <=criticoI) & (relacionMi >=criticoI*-1)\n",
        "asimetricoIIsq=(relacionMi <criticoI*-1) & (relacionMi >=sCriticoI*-1)\n",
        "asimetricoICuad=(relacionMi >criticoI) & (relacionMi <sCriticoI)\n",
        "sAsimetricoIIsq=(relacionMi <=sCriticoI*-1)\n",
        "sAsimetricoICuad=(relacionMi >= sCriticoI)\n",
        "\n",
        "\n"
      ]
    },
    {
      "cell_type": "code",
      "source": [
        "print(\"2) FUERZA DE MUSLOS\\n 2.1) RELACION FLEXORES (-10(ok)<10-25(leve)<+25(grave))\")\n",
        "if simetricoFlex !=0:\n",
        "  print('Valores Óptimos en flexores \\n Porcentaje de asiemtría =',relacionFlex)\n",
        "elif asimetricoDFlex !=0:\n",
        "  print('Fortalecer flexores D \\n Porcentaje de asiemtría =',relacionFlex)\n",
        "else:\n",
        "  print('Fortalecer flexores I \\n Porcentaje de asiemtría =',relacionFlex)\n",
        "\n",
        "\n",
        "print(\"2.2) RELACION EXTENSORES (-10(ok)<10-25(leve)<+25(grave))\")\n",
        "if simetricoExt !=0:\n",
        "  print('Valores Óptimos en Extensores \\n Porcentaje de asiemtría =',relacionExt)\n",
        "elif asimetricoDExt !=0:\n",
        "  print('Fortalecer Extensores D \\n Porcentaje de asiemtría =',relacionExt)\n",
        "else:\n",
        "  print('Fortalecer Extensores I \\n Porcentaje de asiemtría =',relacionExt)\n",
        "\n",
        "\n",
        "print(\"2.3) RELACION MUSLO DERECHO (-\",criticoD,\"(ok)<\",criticoD,\"-\",sCriticoD,\"(leve)<+\",sCriticoD,\"(grave))\")\n",
        "if simetricoMd !=0:\n",
        "  print('Valores Óptimos en Muslo derecho \\n Porcentaje de relación =',relacionMd)\n",
        "elif asimetricoDIsq !=0 or sAsimetricoDIsq!=0:\n",
        "  print('Fortalecer Flexores D \\n Porcentaje de relación =',relacionMd)\n",
        "else:\n",
        "  print('Fortalecer Extensores D \\n Porcentaje de relación =',relacionMd)\n",
        "\n",
        "\n",
        "print(\"2.4) RELACION MUSLO Izquierdo (-\",criticoI,\"(ok)<\",criticoI,\"-\",sCriticoI,\"(leve)<+\",sCriticoI,\"(grave))\")\n",
        "if simetricoMi !=0:\n",
        "  print('Valores Óptimos en Muslo Izquierdo \\n Porcentaje de relación =',relacionMi)\n",
        "elif asimetricoIIsq !=0 or sAsimetricoIIsq!=0:\n",
        "  print('Fortalecer Flexores I \\n Porcentaje de relación =',relacionMi)\n",
        "else:\n",
        "  print('Fortalecer Extensores I \\n Porcentaje de relación =',relacionMi)"
      ],
      "metadata": {
        "id": "Y8WlQhAP3AcH"
      },
      "execution_count": null,
      "outputs": []
    }
  ]
}