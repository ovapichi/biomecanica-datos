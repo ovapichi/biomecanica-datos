{
  "nbformat": 4,
  "nbformat_minor": 0,
  "metadata": {
    "colab": {
      "provenance": [],
      "authorship_tag": "ABX9TyNY+Qq+LVP+jhQlMDw611mi",
      "include_colab_link": true
    },
    "kernelspec": {
      "name": "python3",
      "display_name": "Python 3"
    },
    "language_info": {
      "name": "python"
    }
  },
  "cells": [
    {
      "cell_type": "markdown",
      "metadata": {
        "id": "view-in-github",
        "colab_type": "text"
      },
      "source": [
        "<a href=\"https://colab.research.google.com/github/ovapichi/biomecanica-datos/blob/main/Celda_individual.ipynb\" target=\"_parent\"><img src=\"https://colab.research.google.com/assets/colab-badge.svg\" alt=\"Open In Colab\"/></a>"
      ]
    },
    {
      "cell_type": "code",
      "execution_count": null,
      "metadata": {
        "id": "Kl7WN2eLEH3B",
        "colab": {
          "base_uri": "https://localhost:8080/"
        },
        "outputId": "e6327924-aabf-4ee5-e7c3-6a58b18e93d8"
      },
      "outputs": [
        {
          "output_type": "stream",
          "name": "stdout",
          "text": [
            "Ingresar la fuerza de extensión muslo derecho 60\n",
            "Ingresar la fuerza de extensión muslo izquierdo 70\n",
            "Ingresar la fuerza de flexión muslo derecho 30\n",
            "Ingresar la fuerza de flexión muslo izquierdo 50\n",
            "2) FUERZA DE MUSLOS\n",
            " 2.1) RELACION FLEXORES (-10(ok)<10-25(leve)<+25(grave))\n",
            "Fortalecer flexores I \n",
            " Porcentaje de asiemtría = -40.0\n",
            "2.2) RELACION EXTENSORES (-10(ok)<10-25(leve)<+25(grave))\n",
            "Fortalecer Extensores D \n",
            " Porcentaje de asiemtría = -14.285714285714292\n",
            "2.3) RELACION MUSLO DERECHO (- 5.3999999999999995 (ok)< 5.3999999999999995 - 27.0 (leve)<+ 27.0 (grave))\n",
            "Valores Óptimos en Muslo derecho \n",
            " Porcentaje de relación = 2.999999999999993\n",
            "2.4) RELACION MUSLO Izquierdo (- 7.199999999999999 (ok)< 7.199999999999999 - 36.0 (leve)<+ 36.0 (grave))\n",
            "Fortalecer Extensores I \n",
            " Porcentaje de relación = 14.0\n"
          ]
        }
      ],
      "source": [
        "\n",
        "#CELDA DE CARGAS\n",
        "cuadDer=float(input(\"Ingresar la fuerza de extensión muslo derecho \"))\n",
        "cuadIzq=float(input(\"Ingresar la fuerza de extensión muslo izquierdo \"))\n",
        "isqDer=float(input(\"Ingresar la fuerza de flexión muslo derecho \"))\n",
        "isqIzq=float(input(\"Ingresar la fuerza de flexión muslo izquierdo \"))\n",
        "\n",
        "#relacion flexores\n",
        "relacionFlex=(isqDer/isqIzq)*100-100\n",
        "\n",
        "simetricoFlex=0\n",
        "asimetricoDFlex=0\n",
        "asimetricoIFlex=0\n",
        "\n",
        "simetricoFlex=(relacionFlex <=10) & (relacionFlex >=-10)\n",
        "asimetricoDFlex=(relacionFlex <-10) & (relacionFlex >=-25)\n",
        "asimetricoIFlex=(relacionFlex >10) & (relacionFlex <25)\n",
        "\n",
        "print(\"2) FUERZA DE MUSLOS\\n 2.1) RELACION FLEXORES (-10(ok)<10-25(leve)<+25(grave))\")\n",
        "if simetricoFlex !=0:\n",
        "  print('Valores Óptimos en flexores \\n Porcentaje de asiemtría =',relacionFlex)\n",
        "elif asimetricoDFlex !=0:\n",
        "  print('Fortalecer flexores D \\n Porcentaje de asiemtría =',relacionFlex)\n",
        "else:\n",
        "  print('Fortalecer flexores I \\n Porcentaje de asiemtría =',relacionFlex)\n",
        "\n",
        "\n",
        "#relacion extensores\n",
        "simetricoExt=0\n",
        "asimetricoDExt=0\n",
        "asimetricoIExt=0\n",
        "\n",
        "relacionExt=(cuadDer/cuadIzq)*100-100\n",
        "\n",
        "simetricoExt=(relacionExt <=10) & (relacionExt >=-10)\n",
        "asimetricoDExt=(relacionExt <-10) & (relacionExt >=-25)\n",
        "asimetricoIExt=(relacionExt >10) & (relacionExt <25)\n",
        "\n",
        "print(\"2.2) RELACION EXTENSORES (-10(ok)<10-25(leve)<+25(grave))\")\n",
        "if simetricoExt !=0:\n",
        "  print('Valores Óptimos en Extensores \\n Porcentaje de asiemtría =',relacionExt)\n",
        "elif asimetricoDExt !=0:\n",
        "  print('Fortalecer Extensores D \\n Porcentaje de asiemtría =',relacionExt)\n",
        "else:\n",
        "  print('Fortalecer Extensores I \\n Porcentaje de asiemtría =',relacionExt)\n",
        "\n",
        "#relacion interpierna derecha\n",
        "criticoD=(cuadDer+isqDer)*0.06\n",
        "sCriticoD=(cuadDer+isqDer)*0.3\n",
        "relacionMd=(cuadDer+isqDer)*0.7-cuadDer\n",
        "\n",
        "simetricoMd=0\n",
        "asimetricoDIsq=0\n",
        "asimetricoDCuad=0\n",
        "sAsimetricoDIsq=0\n",
        "sAsimetricoDCuad=0\n",
        "\n",
        "simetricoMd=(relacionMd <=criticoD) & (relacionMd >=criticoD*-1)\n",
        "asimetricoDIsq=(relacionMd <criticoD*-1) & (relacionMd >=sCriticoD*-1)\n",
        "asimetricoDCuad=(relacionMd >criticoD) & (relacionMd <sCriticoD)\n",
        "sAsimetricoDIsq=(relacionMd <=sCriticoD*-1)\n",
        "sAsimetricoDCuad=(relacionMd >= sCriticoD)\n",
        "\n",
        "\n",
        "print(\"2.3) RELACION MUSLO DERECHO (-\",criticoD,\"(ok)<\",criticoD,\"-\",sCriticoD,\"(leve)<+\",sCriticoD,\"(grave))\")\n",
        "if simetricoMd !=0:\n",
        "  print('Valores Óptimos en Muslo derecho \\n Porcentaje de relación =',relacionMd)\n",
        "elif asimetricoDIsq !=0 or sAsimetricoDIsq!=0:\n",
        "  print('Fortalecer Flexores D \\n Porcentaje de relación =',relacionMd)\n",
        "else:\n",
        "  print('Fortalecer Extensores D \\n Porcentaje de relación =',relacionMd)\n",
        "\n",
        "\n",
        "#relacion interpierna Izquierda\n",
        "criticoI=(cuadIzq+isqIzq)*0.06\n",
        "sCriticoI=(cuadIzq+isqIzq)*0.3\n",
        "relacionMi=(cuadIzq+isqIzq)*0.7-cuadIzq\n",
        "\n",
        "simetricoMi=0\n",
        "asimetricoIIsq=0\n",
        "asimetricoICuad=0\n",
        "sAsimetricoIIsq=0\n",
        "sAsimetricoICuad=0\n",
        "\n",
        "simetricoMi=(relacionMi <=criticoI) & (relacionMi >=criticoI*-1)\n",
        "asimetricoIIsq=(relacionMi <criticoI*-1) & (relacionMi >=sCriticoI*-1)\n",
        "asimetricoICuad=(relacionMi >criticoI) & (relacionMi <sCriticoI)\n",
        "sAsimetricoIIsq=(relacionMi <=sCriticoI*-1)\n",
        "sAsimetricoICuad=(relacionMi >= sCriticoI)\n",
        "\n",
        "\n",
        "print(\"2.4) RELACION MUSLO Izquierdo (-\",criticoI,\"(ok)<\",criticoI,\"-\",sCriticoI,\"(leve)<+\",sCriticoI,\"(grave))\")\n",
        "if simetricoMi !=0:\n",
        "  print('Valores Óptimos en Muslo Izquierdo \\n Porcentaje de relación =',relacionMi)\n",
        "elif asimetricoIIsq !=0 or sAsimetricoIIsq!=0:\n",
        "  print('Fortalecer Flexores I \\n Porcentaje de relación =',relacionMi)\n",
        "else:\n",
        "  print('Fortalecer Extensores I \\n Porcentaje de relación =',relacionMi)\n"
      ]
    }
  ]
}