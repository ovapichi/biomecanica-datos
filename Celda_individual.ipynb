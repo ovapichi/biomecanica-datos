{
  "nbformat": 4,
  "nbformat_minor": 0,
  "metadata": {
    "colab": {
      "provenance": [],
      "authorship_tag": "ABX9TyMl3SIhg+IRylNFEo0ncTyx",
      "include_colab_link": true
    },
    "kernelspec": {
      "name": "python3",
      "display_name": "Python 3"
    },
    "language_info": {
      "name": "python"
    }
  },
  "cells": [
    {
      "cell_type": "markdown",
      "metadata": {
        "id": "view-in-github",
        "colab_type": "text"
      },
      "source": [
        "<a href=\"https://colab.research.google.com/github/ovapichi/biomecanica-datos/blob/celda_de_cargas/Celda_individual.ipynb\" target=\"_parent\"><img src=\"https://colab.research.google.com/assets/colab-badge.svg\" alt=\"Open In Colab\"/></a>"
      ]
    },
    {
      "cell_type": "code",
      "source": [
        "import pandas as pd\n",
        "  #CELDA DE CARGAS WIN LABORAT\n",
        "cuad_der=0\n",
        "cuad_izq=0\n",
        "isq_der=0\n",
        "isq_izq=0\n",
        "\n",
        "\n",
        "\n",
        "\n",
        "def carga_manual ():\n",
        "  print(\"Carga manual de datos, por favor llene los datos solicitados \\n\")\n",
        "  cuad_der=float(input(\"Ingresar la fuerza de extensión muslo derecho \"))\n",
        "  cuad_izq=float(input(\"Ingresar la fuerza de extensión muslo izquierdo \"))\n",
        "  isq_der=float(input(\"Ingresar la fuerza de flexión muslo derecho \"))\n",
        "  isq_izq=float(input(\"Ingresar la fuerza de flexión muslo izquierdo \"))\n",
        "  return cuad_der,cuad_izq,isq_der,isq_izq\n",
        "cuad_der,cuad_izq,isq_der,isq_izq=carga_manual()\n",
        "\n"
      ],
      "metadata": {
        "id": "ptMbPX0i4Bfn",
        "outputId": "52aa4ebc-ea0c-48f1-b2d1-f81bf1dc67dd",
        "colab": {
          "base_uri": "https://localhost:8080/"
        }
      },
      "execution_count": 2,
      "outputs": [
        {
          "name": "stdout",
          "output_type": "stream",
          "text": [
            "Carga manual de datos, por favor llene los datos solicitados \n",
            "\n",
            "Ingresar la fuerza de extensión muslo derecho 68.88\n",
            "Ingresar la fuerza de extensión muslo izquierdo 71.11\n",
            "Ingresar la fuerza de flexión muslo derecho 14.82\n",
            "Ingresar la fuerza de flexión muslo izquierdo 21.52\n"
          ]
        }
      ]
    },
    {
      "cell_type": "code",
      "execution_count": 3,
      "metadata": {
        "id": "Kl7WN2eLEH3B"
      },
      "outputs": [],
      "source": [
        "#Aplicación de fórmulas de asimetría\n",
        "\n",
        "relacionFlex=(isq_der/isq_izq)*100-100\n",
        "\n",
        "simetricoFlex=0\n",
        "asimetricoDFlex=0\n",
        "asimetricoIFlex=0\n",
        "\n",
        "simetricoFlex=(relacionFlex <=10) & (relacionFlex >=-10)\n",
        "asimetricoDFlex=(relacionFlex <-10) & (relacionFlex >=-25)\n",
        "asimetricoIFlex=(relacionFlex >10) & (relacionFlex <25)\n",
        "\n",
        "#relacion extensores\n",
        "simetricoExt=0\n",
        "asimetricoDExt=0\n",
        "asimetricoIExt=0\n",
        "\n",
        "relacionExt=(cuad_der/cuad_izq)*100-100\n",
        "\n",
        "simetricoExt=(relacionExt <=10) & (relacionExt >=-10)\n",
        "asimetricoDExt=(relacionExt <-10) & (relacionExt >=-25)\n",
        "asimetricoIExt=(relacionExt >10) & (relacionExt <25)\n",
        "\n",
        "#relacion interpierna derecha\n",
        "criticoD=(cuad_der+isq_der)*0.06\n",
        "sCriticoD=(cuad_der+isq_der)*0.3\n",
        "relacionMd=(cuad_der+isq_der)*0.7-cuad_der\n",
        "\n",
        "simetricoMd=0\n",
        "asimetricoDIsq=0\n",
        "asimetricoDCuad=0\n",
        "sAsimetricoDIsq=0\n",
        "sAsimetricoDCuad=0\n",
        "\n",
        "simetricoMd=(relacionMd <=criticoD) & (relacionMd >=criticoD*-1)\n",
        "asimetricoDIsq=(relacionMd <criticoD*-1) & (relacionMd >=sCriticoD*-1)\n",
        "asimetricoDCuad=(relacionMd >criticoD) & (relacionMd <sCriticoD)\n",
        "sAsimetricoDIsq=(relacionMd <=sCriticoD*-1)\n",
        "sAsimetricoDCuad=(relacionMd >= sCriticoD)\n",
        "\n",
        "#relacion interpierna Izquierda\n",
        "criticoI=(cuad_izq+isq_izq)*0.06\n",
        "sCriticoI=(cuad_izq+isq_izq)*0.3\n",
        "relacionMi=(cuad_izq+isq_izq)*0.7-cuad_izq\n",
        "\n",
        "simetricoMi=0\n",
        "asimetricoIIsq=0\n",
        "asimetricoICuad=0\n",
        "sAsimetricoIIsq=0\n",
        "sAsimetricoICuad=0\n",
        "\n",
        "simetricoMi=(relacionMi <=criticoI) & (relacionMi >=criticoI*-1)\n",
        "asimetricoIIsq=(relacionMi <criticoI*-1) & (relacionMi >=sCriticoI*-1)\n",
        "asimetricoICuad=(relacionMi >criticoI) & (relacionMi <sCriticoI)\n",
        "sAsimetricoIIsq=(relacionMi <=sCriticoI*-1)\n",
        "sAsimetricoICuad=(relacionMi >= sCriticoI)\n",
        "\n",
        "\n"
      ]
    },
    {
      "cell_type": "code",
      "source": [
        "print(\"2) FUERZA DE MUSLOS\\n 2.1) RELACION FLEXORES (-10(ok)<10-25(leve)<+25(grave))\")\n",
        "if simetricoFlex !=0:\n",
        "  print('Valores Óptimos en flexores \\n Porcentaje de asiemtría =',(\"{:.2f}\".format(relacionFlex)))\n",
        "elif asimetricoDFlex !=0:\n",
        "  print('Fortalecer flexores I \\n Porcentaje de asiemtría =',(\"{:.2f}\".format(relacionFlex)))\n",
        "else:\n",
        "  print('Fortalecer flexores D \\n Porcentaje de asiemtría =',(\"{:.2f}\".format(relacionFlex)))\n",
        "\n",
        "\n",
        "print(\"2.2) RELACION EXTENSORES (-10(ok)<10-25(leve)<+25(grave))\")\n",
        "if simetricoExt !=0:\n",
        "  print('Valores Óptimos en Extensores \\n Porcentaje de asiemtría =',(\"{:.2f}\".format(relacionExt)))\n",
        "elif asimetricoDExt !=0:\n",
        "  print('Fortalecer Extensores I \\n Porcentaje de asiemtría =',(\"{:.2f}\".format(relacionExt)))\n",
        "else:\n",
        "  print('Fortalecer Extensores D \\n Porcentaje de asiemtría =',(\"{:.2f}\".format(relacionExt)))\n",
        "\n",
        "\n",
        "print(\"2.3) RELACION MUSLO DERECHO (-\",(\"{:.2f}\".format(criticoD)),\"(ok)<\",(\"{:.2f}\".format(criticoD)),\"-\",(\"{:.2f}\".format(sCriticoD)),\"(leve)<+\",(\"{:.2f}\".format(sCriticoD)),\"(grave))\")\n",
        "if simetricoMd !=0:\n",
        "  print('Valores Óptimos en Muslo derecho \\n Porcentaje de relación =',(\"{:.2f}\".format(relacionMd)))\n",
        "elif asimetricoDIsq !=0 or sAsimetricoDIsq!=0:\n",
        "  print('Fortalecer Flexores D \\n Porcentaje de relación =',(\"{:.2f}\".format(relacionMd)))\n",
        "else:\n",
        "  print('Fortalecer Extensores D \\n Porcentaje de relación =',(\"{:.2f}\".format(relacionMd)))\n",
        "\n",
        "\n",
        "print(\"2.4) RELACION MUSLO Izquierdo (-\",(\"{:.2f}\".format(criticoI)),\"(ok)<\",(\"{:.2f}\".format(criticoI)),\"-\",(\"{:.2f}\".format(sCriticoI)),\"(leve)<+\",(\"{:.2f}\".format(sCriticoI)),\"(grave))\")\n",
        "if simetricoMi !=0:\n",
        "  print('Valores Óptimos en Muslo Izquierdo \\n Porcentaje de relación =',(\"{:.2f}\".format(relacionMi)))\n",
        "elif asimetricoIIsq !=0 or sAsimetricoIIsq!=0:\n",
        "  print('Fortalecer Flexores I \\n Porcentaje de relación =',(\"{:.2f}\".format(relacionMi)))\n",
        "else:\n",
        "  print('Fortalecer Extensores I \\n Porcentaje de relación =',(\"{:.2f}\".format(relacionMi)))"
      ],
      "metadata": {
        "id": "Y8WlQhAP3AcH",
        "colab": {
          "base_uri": "https://localhost:8080/"
        },
        "outputId": "364ed0de-c0a8-4a1d-b258-77973eb5552e"
      },
      "execution_count": 14,
      "outputs": [
        {
          "output_type": "stream",
          "name": "stdout",
          "text": [
            "2) FUERZA DE MUSLOS\n",
            " 2.1) RELACION FLEXORES (-10(ok)<10-25(leve)<+25(grave))\n",
            "Fortalecer flexores D \n",
            " Porcentaje de asiemtría = -31.13\n",
            "2.2) RELACION EXTENSORES (-10(ok)<10-25(leve)<+25(grave))\n",
            "Valores Óptimos en Extensores \n",
            " Porcentaje de asiemtría = -3.14\n",
            "2.3) RELACION MUSLO DERECHO (- 5.02 (ok)< 5.02 - 25.11 (leve)<+ 25.11 (grave))\n",
            "Fortalecer Flexores D \n",
            " Porcentaje de relación = -10.29\n",
            "2.4) RELACION MUSLO Izquierdo (- 5.56 (ok)< 5.56 - 27.79 (leve)<+ 27.79 (grave))\n",
            "Fortalecer Flexores I \n",
            " Porcentaje de relación = -6.27\n"
          ]
        }
      ]
    }
  ]
}