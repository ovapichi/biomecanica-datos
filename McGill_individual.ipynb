{
  "nbformat": 4,
  "nbformat_minor": 0,
  "metadata": {
    "colab": {
      "provenance": [],
      "authorship_tag": "ABX9TyPA4NQYCbV5e9tt8YBjYSXD",
      "include_colab_link": true
    },
    "kernelspec": {
      "name": "python3",
      "display_name": "Python 3"
    },
    "language_info": {
      "name": "python"
    }
  },
  "cells": [
    {
      "cell_type": "markdown",
      "metadata": {
        "id": "view-in-github",
        "colab_type": "text"
      },
      "source": [
        "<a href=\"https://colab.research.google.com/github/ovapichi/biomecanica-datos/blob/main/McGill_individual.ipynb\" target=\"_parent\"><img src=\"https://colab.research.google.com/assets/colab-badge.svg\" alt=\"Open In Colab\"/></a>"
      ]
    },
    {
      "cell_type": "code",
      "execution_count": null,
      "metadata": {
        "colab": {
          "base_uri": "https://localhost:8080/"
        },
        "id": "kJAZH2ugD2q6",
        "outputId": "7d6edfba-4c70-4660-8011-7f214d72c710"
      },
      "outputs": [
        {
          "output_type": "stream",
          "name": "stdout",
          "text": [
            "Sebastián Martínez Evaluación de la fuerza resistencia por protocolo McGill\n",
            "Ingresar los valores anterior20.71\n",
            "Ingresar los valores posterior49.11\n",
            "Ingresar los valores derecho22.32\n",
            "Ingresar los valores izquierdo21.98\n",
            "Ingresar sexo del deportista m/fm\n",
            "1) ZONA MEDIA\n",
            " 1.1) SIMETRIA LATERAL\n",
            "Valores simétricos \n",
            " 1.5468607825295635\n",
            "1.2) SIMETRIA ANTEROPOSTERIOR\n",
            "Fortalecer lado anterior (Adelante)\n",
            " -41.829362655263694\n",
            "1.3) SIMETRIA POSTERODERECHA \n",
            "Fortalecer lado derecho \n",
            " -12.55100794135614\n",
            "1.4) SIMETRIA POSTEROIZQUIERDA \n",
            "Fortalecer lado izquierdo \n",
            " -16.24333129708817\n"
          ]
        }
      ],
      "source": [
        "#ctrl+D (selecciona toda la palabra)  ctrl+shift+L  (Seleccionar la misma selección para cambiarla en todo el código)\n",
        "\n",
        "deportista=\"Cosme fulanito\"\n",
        "\n",
        "print(deportista, \"Evaluación de la fuerza resistencia por protocolo McGill\")\n",
        "\n",
        "\n",
        "#Ingresar valores\n",
        "anterior=float(input(\"Ingresar los valores anterior\"))\n",
        "\n",
        "posterior=float(input(\"Ingresar los valores posterior\"))\n",
        "\n",
        "derecho=float(input(\"Ingresar los valores derecho\"))\n",
        "\n",
        "izquierdo=float(input(\"Ingresar los valores izquierdo\"))\n",
        "\n",
        "\n",
        "sexo=input(\"Ingresar sexo del deportista m/f\")\n",
        "\n",
        "simetricoLat=0\n",
        "izquierdoLat=0\n",
        "derechoLat=0\n",
        "\n",
        "\n",
        "#calculo del indice de simetria\n",
        "simetriaLateral=((derecho/izquierdo)*100-100)\n",
        "#tomo solo el 1er decimal del valor\n",
        "#simetriaLateral=simetriaLateral.round(1)\n",
        "#selecciono los valores optimos al 5% leves <50%\n",
        "simetricoLat = (simetriaLateral <=5) & (simetriaLateral >=-5)\n",
        "izquierdoLat = (simetriaLateral <=-5) & (simetriaLateral>=-50)\n",
        "derechoLat = (simetriaLateral >=5) & (simetriaLateral<=50)\n",
        "\n",
        "print(\"1) ZONA MEDIA\\n 1.1) SIMETRIA LATERAL\")\n",
        "if simetricoLat!=0:\n",
        "  print('Valores simétricos \\n',simetriaLateral)\n",
        "elif derechoLat!=0:\n",
        "  print('Fortalecer lado derecho\\n',simetriaLateral)\n",
        "else:\n",
        "  print('Fortalecer lado izquierdo \\n',simetriaLateral)\n",
        "\n",
        "ramaM=0\n",
        "ramaF=0\n",
        "if sexo==\"m\":\n",
        "  ramaM=1\n",
        "else:\n",
        "  ramaF=1\n",
        "\n",
        "simetricoAp=0\n",
        "asimetricoAnt=0\n",
        "asimetricoPost=0\n",
        "\n",
        "simetriaAp=(anterior/posterior)*100-72*ramaF-84*ramaM\n",
        "#simetriaAp=simetriaAp.round(1)\n",
        "simetricoAp=(simetriaAp <=10) & (simetriaAp >=-10)\n",
        "asimetricoAnt=(simetriaAp <-10) & (simetriaAp >=-50)\n",
        "asimetricoPost=(simetriaAp > 10) & (simetriaAp <50)\n",
        "\n",
        "print(\"1.2) SIMETRIA ANTEROPOSTERIOR\")\n",
        "if simetricoAp!=0:\n",
        "  print('Valores simétricos \\n',simetriaAp)\n",
        "elif asimetricoAnt!=0:\n",
        "  print('Fortalecer lado anterior (Adelante)\\n',simetriaAp)\n",
        "else:\n",
        "  print('Fortalecer lado posterior (Atrás) \\n',simetriaAp)\n",
        "\n",
        "simetricoDe=0\n",
        "asimetricoDer=0\n",
        "asimetricoDPost=0\n",
        "\n",
        "simetriaDe=(derecho/posterior)*100-40*ramaF-58*ramaM\n",
        "#simetriaDe=simetriaDe.round(1)\n",
        "simetricoDe=(simetriaDe <=10) & (simetriaDe >=-10)\n",
        "asimetricoDer=(simetriaDe <-10) & (simetriaDe >-50)\n",
        "asimetricoDPost=(simetriaDe >10) & (simetriaDe <50)\n",
        "\n",
        "print(\"1.3) SIMETRIA POSTERODERECHA \")\n",
        "if simetricoDe!=0:\n",
        "  print('Valores simétricos \\n',simetriaDe)\n",
        "elif asimetricoDer!=0:\n",
        "  print('Fortalecer lado derecho \\n',simetriaDe)\n",
        "else:\n",
        "  print('Fortalecer lado posterior (Atrás) \\n',simetriaDe)\n",
        "\n",
        "simetricoIz=0\n",
        "asimetricoIzq=0\n",
        "asimetricoIPost=0\n",
        "\n",
        "simetriaIz=(izquierdo/posterior)*100-42*ramaF-61*ramaM\n",
        "#simetriaIz=simetriaIz.round(1)\n",
        "simetricoIz=(simetriaIz <=10) & (simetriaIz >=-10)\n",
        "asimetricoIzq=(simetriaIz <-10) & (simetriaIz >-50)\n",
        "asimetricoIPost=(simetriaIz >10) & (simetriaIz <50)\n",
        "\n",
        "\n",
        "print(\"1.4) SIMETRIA POSTEROIZQUIERDA \")\n",
        "if simetricoIz!=0:\n",
        "  print('Valores simétricos \\n',simetriaIz)\n",
        "elif asimetricoIzq!=0:\n",
        "  print('Fortalecer lado izquierdo \\n',simetriaIz)\n",
        "else:\n",
        "  print('Fortalecer lado posterior (Atrás) \\n',simetriaIz)\n",
        "\n"
      ]
    },
    {
      "cell_type": "markdown",
      "source": [
        "Seba Martinez 27/10/2023\n",
        "\n",
        "*   49,11 mcgill posterior\n",
        "*   20,71 frontal\n",
        "*   22,32 lateral derecho\n",
        "*   21,98 lateral izquierdo\n",
        "\n",
        "\n",
        "\n",
        "\n",
        "\n",
        "\n",
        "\n"
      ],
      "metadata": {
        "id": "cIG9t97LJsMO"
      }
    }
  ]
}