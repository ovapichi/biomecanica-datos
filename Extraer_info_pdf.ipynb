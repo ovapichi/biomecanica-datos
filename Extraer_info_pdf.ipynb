{
  "nbformat": 4,
  "nbformat_minor": 0,
  "metadata": {
    "colab": {
      "provenance": [],
      "mount_file_id": "1IFmlSRO7LSN02FFAV-4MFAT46CBZ3Ae2",
      "authorship_tag": "ABX9TyMcnb4iwu2grpLsX09RCy68",
      "include_colab_link": true
    },
    "kernelspec": {
      "name": "python3",
      "display_name": "Python 3"
    },
    "language_info": {
      "name": "python"
    }
  },
  "cells": [
    {
      "cell_type": "markdown",
      "metadata": {
        "id": "view-in-github",
        "colab_type": "text"
      },
      "source": [
        "<a href=\"https://colab.research.google.com/github/ovapichi/biomecanica-datos/blob/Primeros_codigos_biomecanica/Extraer_info_pdf.ipynb\" target=\"_parent\"><img src=\"https://colab.research.google.com/assets/colab-badge.svg\" alt=\"Open In Colab\"/></a>"
      ]
    },
    {
      "cell_type": "code",
      "source": [
        "pip install pymupdf"
      ],
      "metadata": {
        "id": "G6l8a5yAAYGy"
      },
      "execution_count": null,
      "outputs": []
    },
    {
      "cell_type": "code",
      "source": [
        "pip install ocrmypdf"
      ],
      "metadata": {
        "id": "6hJ_Bbb2dIEs"
      },
      "execution_count": 21,
      "outputs": []
    },
    {
      "cell_type": "code",
      "execution_count": 13,
      "metadata": {
        "colab": {
          "base_uri": "https://localhost:8080/"
        },
        "id": "4sJXscK5ALUD",
        "outputId": "f0fc8579-d9f1-4406-ade5-dbae55f61dcd"
      },
      "outputs": [
        {
          "output_type": "stream",
          "name": "stdout",
          "text": [
            "\n",
            "        Paginas: 2\n",
            "        Metadatos: {'format': 'PDF 1.4', 'title': 'Presupuesto 2023', 'author': '', 'subject': '', 'keywords': '', 'creator': '', 'producer': 'Skia/PDF m120 Google Docs Renderer', 'creationDate': '', 'modDate': '', 'trapped': '', 'encryption': None}\n",
            "\n",
            "        Tabla de contenidos:\n",
            "    \n",
            "[]\n"
          ]
        }
      ],
      "source": [
        "import fitz\n",
        "from pprint import pprint\n",
        "\n",
        "#colocar la dirección del archivo\n",
        "\n",
        "direccion=\"/content/Presupuesto 2023.pdf\"\n",
        "\n",
        "if __name__ == \"__main__\":\n",
        "    # Abrir el documento\n",
        "    doc = fitz.open(direccion)\n",
        "    # Obtener algunas propiedades del documento\n",
        "    print(f\"\"\"\n",
        "        Paginas: {str(doc.page_count)}\n",
        "        Metadatos: {doc.metadata}\\n\n",
        "        Tabla de contenidos:\n",
        "    \"\"\")\n",
        "    # Imprimir la tabla de contenidos (TOC)\n",
        "    pprint(doc.get_toc())\n",
        "    # Cerrar el documento\n",
        "    # doc.close()\n"
      ]
    },
    {
      "cell_type": "code",
      "source": [
        "#extraer el texto de un pdf de una sola página\n",
        "\n",
        "pagina = doc.load_page(0)\n",
        "texto = pagina.get_textpage().extractText()\n",
        "print(texto)"
      ],
      "metadata": {
        "id": "Y4Az93i_QClm"
      },
      "execution_count": null,
      "outputs": []
    },
    {
      "cell_type": "code",
      "source": [
        "for pagina in doc.pages(step=1):\n",
        "        internet = 0\n",
        "        texto = pagina.get_textpage().extractText()\n",
        "        palabras = texto.lower().strip().split(\" \")\n",
        "        print(texto)\n",
        "\n",
        "        #Prueba de un cuenta palabras\n",
        "        #for palabra in palabras:\n",
        "        #    if palabra == \"internet\":\n",
        "        #       internet += 1\n",
        "        #print(f\"Veces que se repite la palabra 'internet' en la página {str(pagina.number)}: {str(internet)}\")"
      ],
      "metadata": {
        "id": "UL9MevdyQ2gj"
      },
      "execution_count": null,
      "outputs": []
    },
    {
      "cell_type": "code",
      "source": [
        "#extraer imágenes de un pdf\n",
        "\n",
        "for pagina in doc.pages(step=1):\n",
        "        for imagen in doc.get_page_images(pagina.number):\n",
        "            xref = imagen[0] # Obtiene el valor xref de la imágen\n",
        "            pix = fitz.Pixmap(doc, xref) # Obtiene el Pixmap de la imágen\n",
        "            print(\"Extrayendo p%s-%s.png...\"%(pagina.number, xref))\n",
        "            if pix.n < 5: # La imágen está en formato RGB, la guardamos\n",
        "                pix.save(\"/content/p%s-%s.png\"%(pagina.number, xref))\n",
        "            else: # La imágen está en formato CMYK, lo convertimos a RGB primero\n",
        "                pixrgb = fitz.Pixmap(fitz.csRGB, pix)\n",
        "                pixrgb.save(\"/content/p%s-%s.png\"%(pagina.number, xref))"
      ],
      "metadata": {
        "id": "reKxwi4KQqMd"
      },
      "execution_count": null,
      "outputs": []
    },
    {
      "cell_type": "code",
      "source": [
        "#Guarda la fuente del archivo .pdf\n",
        "pagina = doc.load_page(0)\n",
        "fonts = pagina.get_fonts(full=True)\n",
        "for font in fonts:\n",
        "      xref = font[0]\n",
        "      nombre, ext, _, contenido = doc.extract_font(xref)\n",
        "      if contenido is not None:\n",
        "          archivo = open(direccion, \"wb\")\n",
        "          archivo.write(contenido)\n",
        "          archivo.close()\n"
      ],
      "metadata": {
        "id": "L0JgiBK2asvz"
      },
      "execution_count": 14,
      "outputs": []
    }
  ]
}