{
  "nbformat": 4,
  "nbformat_minor": 0,
  "metadata": {
    "colab": {
      "provenance": [],
      "mount_file_id": "https://github.com/ovapichi/biomecanica-datos/blob/celda_de_cargas/Celda_por_csv.ipynb",
      "authorship_tag": "ABX9TyNCma81w/y7wRT2ipEDLcof",
      "include_colab_link": true
    },
    "kernelspec": {
      "name": "python3",
      "display_name": "Python 3"
    },
    "language_info": {
      "name": "python"
    }
  },
  "cells": [
    {
      "cell_type": "markdown",
      "metadata": {
        "id": "view-in-github",
        "colab_type": "text"
      },
      "source": [
        "<a href=\"https://colab.research.google.com/github/ovapichi/biomecanica-datos/blob/celda_de_cargas/Celda_por_equipo_Armado_csv.ipynb\" target=\"_parent\"><img src=\"https://colab.research.google.com/assets/colab-badge.svg\" alt=\"Open In Colab\"/></a>"
      ]
    },
    {
      "cell_type": "code",
      "source": [
        "import pandas as pd\n",
        "import os\n",
        "from google.colab import drive\n",
        "drive.mount('/content/drive')"
      ],
      "metadata": {
        "id": "PmR0stqy55mV",
        "outputId": "a4e0c233-bf3b-4ff3-e6c8-5083d20840c9",
        "colab": {
          "base_uri": "https://localhost:8080/"
        }
      },
      "execution_count": 1,
      "outputs": [
        {
          "output_type": "stream",
          "name": "stdout",
          "text": [
            "Mounted at /content/drive\n"
          ]
        }
      ]
    },
    {
      "cell_type": "code",
      "source": [
        "\n",
        "  #CELDA DE CARGAS WIN LABORAT\n",
        "  #INGRESAR CARPETA DE ARCHIVOS .dat\n",
        "direccion_crudos=\"/content/drive/Shareddrives/Sociedad Hebraica Argentina/Noviembre 2023/Datos/Celda/Crudos/\"\n",
        "direccion_final=\"/content/drive/Shareddrives/Sociedad Hebraica Argentina/Noviembre 2023/Datos/Celda/\"\n",
        "fecha=\"Noviembre 2023\"\n",
        "df_final = pd.DataFrame()\n",
        "#Formato de la lista\n",
        "#  Columnas(\"musculo\",\"f_max\",\"5s\",\"10s\",\"control_motor\",\"indice_fatiga\")\n",
        "#  index Filas (\"cuad_der\",\"cuad_izq\",\"isq_der\",\"isq_izq\")\n",
        "\n",
        "  def leer_carpeta(direccion_crudos):\n",
        "    lista_archivos=[]\n",
        "    for nombre_archivo in os.listdir(direccion_crudos):\n",
        "      lista_archivos.append(nombre_archivo)\n",
        "    lista_archivos.sort()\n",
        "    #print(lista_archivos)\n",
        "    seleccion_muslo(lista_archivos,direccion_crudos)\n",
        "    return\n",
        "\n",
        "  def seleccion_muslo(lista,direccion_crudos):\n",
        "    jugadora=[]\n",
        "    maximos=[]\n",
        "    musculo=[]\n",
        "    for archivo in lista:\n",
        "\n",
        "      df=pd.read_csv(direccion_crudos+\"/\"+archivo,on_bad_lines='skip',sep = \"\\t\", decimal=\",\",header=None, encoding=\"utf-16\")\n",
        "      df=df.drop([0],axis=0)\n",
        "      df=df.drop([0,1,2], axis=1)\n",
        "      maximos.append(df[3].max())\n",
        "      if archivo[-12:-4]==\"Cuad Der\":\n",
        "        musculo.append(\"Cuadriceps Derechos\")\n",
        "        jugadora.append(archivo[:-13])\n",
        "      elif archivo[-12:-4]==\"Cuad Izq\":\n",
        "        musculo.append(\"Cuadriceps Izquierdos\")\n",
        "        jugadora.append(archivo[:-13])\n",
        "      elif archivo[-12:-4]==\" Isq Der\":\n",
        "        jugadora.append(archivo[:-12])\n",
        "        musculo.append(\"Isquios Derechos\")\n",
        "      elif archivo[-12:-4]==\" Isq Izq\":\n",
        "        jugadora.append(archivo[:-12])\n",
        "        musculo.append(\"Isquios Izquierdo\")\n",
        "\n",
        "    df_final['jugadora']=jugadora\n",
        "    df_final['maximos']=maximos\n",
        "    df_final['musculo']=musculo\n",
        "    return\n",
        "\n",
        "\n",
        "\n",
        "#función para la aplicación de fórmulas de asimetría\n",
        "  def procesar_maximos (cuad_der,cuad_izq,isq_der,isq_izq):\n",
        "    relacionFlex=(isq_der/isq_izq)*100-100\n",
        "    simetricoFlex=0\n",
        "    asimetricoDFlex=0\n",
        "    asimetricoIFlex=0\n",
        "    simetricoFlex=(relacionFlex <=10) & (relacionFlex >=-10)\n",
        "    asimetricoDFlex=(relacionFlex <-10) & (relacionFlex >=-25)\n",
        "    asimetricoIFlex=(relacionFlex >10) & (relacionFlex <25)\n",
        "    #relacion extensores\n",
        "    simetricoExt=0\n",
        "    asimetricoDExt=0\n",
        "    asimetricoIExt=0\n",
        "\n",
        "    relacionExt=(cuad_der/cuad_izq)*100-100\n",
        "\n",
        "    simetricoExt=(relacionExt <=10) & (relacionExt >=-10)\n",
        "    asimetricoDExt=(relacionExt <-10) & (relacionExt >=-25)\n",
        "    asimetricoIExt=(relacionExt >10) & (relacionExt <25)\n",
        "\n",
        "    #relacion interpierna derecha\n",
        "    criticoD=(cuad_der+isq_der)*0.06\n",
        "    sCriticoD=(cuad_der+isq_der)*0.3\n",
        "    relacionMd=(cuad_der+isq_der)*0.7-cuad_der\n",
        "\n",
        "    simetricoMd=0\n",
        "    asimetricoDIsq=0\n",
        "    asimetricoDCuad=0\n",
        "    sAsimetricoDIsq=0\n",
        "    sAsimetricoDCuad=0\n",
        "\n",
        "    simetricoMd=(relacionMd <=criticoD) & (relacionMd >=criticoD*-1)\n",
        "    asimetricoDIsq=(relacionMd <criticoD*-1) & (relacionMd >=sCriticoD*-1)\n",
        "    asimetricoDCuad=(relacionMd >criticoD) & (relacionMd <sCriticoD)\n",
        "    sAsimetricoDIsq=(relacionMd <=sCriticoD*-1)\n",
        "    sAsimetricoDCuad=(relacionMd >= sCriticoD)\n",
        "\n",
        "    #relacion interpierna Izquierda\n",
        "    criticoI=(cuad_izq+isq_izq)*0.06\n",
        "    sCriticoI=(cuad_izq+isq_izq)*0.3\n",
        "    relacionMi=(cuad_izq+isq_izq)*0.7-cuad_izq\n",
        "\n",
        "    simetricoMi=0\n",
        "    asimetricoIIsq=0\n",
        "    asimetricoICuad=0\n",
        "    sAsimetricoIIsq=0\n",
        "    sAsimetricoICuad=0\n",
        "\n",
        "    simetricoMi=(relacionMi <=criticoI) & (relacionMi >=criticoI*-1)\n",
        "    asimetricoIIsq=(relacionMi <criticoI*-1) & (relacionMi >=sCriticoI*-1)\n",
        "    asimetricoICuad=(relacionMi >criticoI) & (relacionMi <sCriticoI)\n",
        "    sAsimetricoIIsq=(relacionMi <=sCriticoI*-1)\n",
        "    sAsimetricoICuad=(relacionMi >= sCriticoI)\n",
        "\n",
        "    print(\"2) FUERZA DE MUSLOS\\n 2.1) RELACION FLEXORES (-10(ok)<10-25(leve)<+25(grave))\")\n",
        "    if simetricoFlex !=0:\n",
        "      print('Valores Óptimos en flexores \\n Porcentaje de asiemtría =',relacionFlex)\n",
        "    elif asimetricoDFlex !=0:\n",
        "      print('Fortalecer flexores D \\n Porcentaje de asiemtría =',relacionFlex)\n",
        "    else:\n",
        "      print('Fortalecer flexores I \\n Porcentaje de asiemtría =',relacionFlex)\n",
        "\n",
        "\n",
        "    print(\"2.2) RELACION EXTENSORES (-10(ok)<10-25(leve)<+25(grave))\")\n",
        "    if simetricoExt !=0:\n",
        "      print('Valores Óptimos en Extensores \\n Porcentaje de asiemtría =',relacionExt)\n",
        "    elif asimetricoDExt !=0:\n",
        "      print('Fortalecer Extensores D \\n Porcentaje de asiemtría =',relacionExt)\n",
        "    else:\n",
        "      print('Fortalecer Extensores I \\n Porcentaje de asiemtría =',relacionExt)\n",
        "\n",
        "\n",
        "    print(\"2.3) RELACION MUSLO DERECHO (-\",criticoD,\"(ok)<\",criticoD,\"-\",sCriticoD,\"(leve)<+\",sCriticoD,\"(grave))\")\n",
        "    if simetricoMd !=0:\n",
        "      print('Valores Óptimos en Muslo derecho \\n Porcentaje de relación =',relacionMd)\n",
        "    elif asimetricoDIsq !=0 or sAsimetricoDIsq!=0:\n",
        "      print('Fortalecer Flexores D \\n Porcentaje de relación =',relacionMd)\n",
        "    else:\n",
        "      print('Fortalecer Extensores D \\n Porcentaje de relación =',relacionMd)\n",
        "\n",
        "\n",
        "    print(\"2.4) RELACION MUSLO Izquierdo (-\",criticoI,\"(ok)<\",criticoI,\"-\",sCriticoI,\"(leve)<+\",sCriticoI,\"(grave))\")\n",
        "    if simetricoMi !=0:\n",
        "      print('Valores Óptimos en Muslo Izquierdo \\n Porcentaje de relación =',relacionMi)\n",
        "    elif asimetricoIIsq !=0 or sAsimetricoIIsq!=0:\n",
        "      print('Fortalecer Flexores I \\n Porcentaje de relación =',relacionMi)\n",
        "    else:\n",
        "      print('Fortalecer Extensores I \\n Porcentaje de relación =',relacionMi)\n",
        "    return\n",
        "leer_carpeta(direccion_crudos)\n",
        "df_final.to_csv(direccion_final+\"Celda\"+fecha+\".csv\")"
      ],
      "metadata": {
        "id": "ptMbPX0i4Bfn"
      },
      "execution_count": 127,
      "outputs": []
    },
    {
      "cell_type": "code",
      "execution_count": null,
      "metadata": {
        "id": "Kl7WN2eLEH3B"
      },
      "outputs": [],
      "source": [
        "\n"
      ]
    }
  ]
}